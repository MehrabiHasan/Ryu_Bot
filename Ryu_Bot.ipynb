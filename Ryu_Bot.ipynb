{
  "nbformat": 4,
  "nbformat_minor": 0,
  "metadata": {
    "colab": {
      "name": "Ryu_Bot",
      "provenance": [],
      "authorship_tag": "ABX9TyOLwf+1BlZDHdtoUYID3zI7",
      "include_colab_link": true
    },
    "kernelspec": {
      "name": "python3",
      "display_name": "Python 3"
    }
  },
  "cells": [
    {
      "cell_type": "markdown",
      "metadata": {
        "id": "view-in-github",
        "colab_type": "text"
      },
      "source": [
        "<a href=\"https://colab.research.google.com/github/MehrabiHasan/Ryu_Bot/blob/master/Ryu_Bot.ipynb\" target=\"_parent\"><img src=\"https://colab.research.google.com/assets/colab-badge.svg\" alt=\"Open In Colab\"/></a>"
      ]
    },
    {
      "cell_type": "code",
      "metadata": {
        "id": "NqR5QRxaE7vV",
        "colab_type": "code",
        "colab": {}
      },
      "source": [
        "# Stable Baselines only supports tensorflow 1.x for now\n",
        "%tensorflow_version 1.x\n",
        "!apt-get install ffmpeg freeglut3-dev xvfb  # For visualization\n",
        "!pip install stable-baselines[mpi]==2.10.0"
      ],
      "execution_count": 0,
      "outputs": []
    },
    {
      "cell_type": "code",
      "metadata": {
        "id": "tDIvJRNpFDmU",
        "colab_type": "code",
        "colab": {}
      },
      "source": [
        "#Importing all the neccessary modules for usage\n",
        "!pip install gym-retro\n",
        "!pip install tqdm\n",
        "from tqdm import tqdm\n",
        "import time \n",
        "import retro\n",
        "from stable_baselines.common.policies import MlpPolicy, MlpLstmPolicy, MlpLnLstmPolicy, CnnLnLstmPolicy, CnnPolicy, CnnLstmPolicy\n",
        "from stable_baselines.common.vec_env import SubprocVecEnv, DummyVecEnv\n",
        "from stable_baselines import PPO2, A2C\n",
        "from google.colab import drive\n",
        "drive.mount('/gdrive')\n",
        "!python -m retro.import /gdrive/\"My Drive\"/#\"Wherever your File is\""
      ],
      "execution_count": 0,
      "outputs": []
    },
    {
      "cell_type": "code",
      "metadata": {
        "id": "MP-t6sXVFNDq",
        "colab_type": "code",
        "colab": {}
      },
      "source": [
        "#Create and Train Model on SFII Engine \n",
        "gamename = 'StreetFighterIISpecialChampionEdition-Genesis'\n",
        "modelname = 'Fighter_a2c_pt2' #whatever name you want to give it \n",
        "env = DummyVecEnv([lambda: retro.make(gamename ,state='Champion.Level1.RyuVsGuile')])\n",
        "model = A2C(CnnPolicy,env,n_steps=128, verbose=1)\n",
        "#model = A2C.load('/gdrive/My Drive/ROMS/Fighter_a2c_pt2.zip')\n",
        "model.set_env(env)\n",
        "model.learn(total_timesteps=1000)\n",
        "#Saves Model into \n",
        "model.save(\"/gdrive/My Drive/\"#\"Whatever Your File Name is/\" + modelname)\n",
        "env.close()"
      ],
      "execution_count": 0,
      "outputs": []
    },
    {
      "cell_type": "code",
      "metadata": {
        "id": "OVnQiPYFFrsr",
        "colab_type": "code",
        "colab": {}
      },
      "source": [
        "#Training and Saving Your Model\n",
        "\n",
        "#Use whatever you called your states without the .state extension\n",
        "sts = ['RyuVsGuile',\n",
        "       'RyuVsBlanka',\n",
        "       'RyuVsRyu',\n",
        "       'RyuVsKen',\n",
        "       'RyuVsChunLi',\n",
        "       'RyuVsZangief',\n",
        "       'RyuVsDhalsim',\n",
        "       'RyuVsHonda',\n",
        "       'RyuVsBalrog',\n",
        "       'RyuVsVega',\n",
        "       'RyuVsSagat',\n",
        "       'RyuVsBison']\n",
        "\n",
        "start_time = time.time()\n",
        "for st in tqdm(sts, desc='Main Loop'):\n",
        "    print(st)\n",
        "    env = DummyVecEnv([lambda: retro.make('StreetFighterIISpecialChampionEdition-Genesis', state=st, scenario='scenario')])\n",
        "    model.set_env(env)\n",
        "    model.learn(total_timesteps=500000)\n",
        "    model.save(modelname)\n",
        "    env.close()\n",
        "end_time = time.time() - start_time\n",
        "print(f'\\n The Training Took {end_time} seconds')"
      ],
      "execution_count": 0,
      "outputs": []
    },
    {
      "cell_type": "code",
      "metadata": {
        "id": "WXeWfyNbGDBI",
        "colab_type": "code",
        "colab": {}
      },
      "source": [
        "env = DummyVecEnv([lambda: retro.make('StreetFighterIISpecialChampionEdition-Genesis',state='RyuVsHonda-Easy', record='/gdrive/My Drive/'#\"Wherever you put file\")])\n",
        "model = A2C.load(modelname)\n",
        "model.set_env(env)\n",
        "obs = env.reset()\n",
        "done = False\n",
        "reward = 0\n",
        "\n",
        "while not done:\n",
        "  actions, _ = model.predict(obs)\n",
        "  obs, rew, done, info = env.step(actions)\n",
        "  reward += rew\n",
        "\n",
        "  \n",
        "print(reward)"
      ],
      "execution_count": 0,
      "outputs": []
    },
    {
      "cell_type": "code",
      "metadata": {
        "id": "0D2QuPWZGZvL",
        "colab_type": "code",
        "colab": {}
      },
      "source": [
        "### Convert BK2 to MP4 File\n",
        "!python /usr/local/lib/python3.6/dist-packages/retro/scripts/playback_movie.py \"/gdrive/My Drive/Level16.RyuVsHonda-Easy-000000.bk2\""
      ],
      "execution_count": 0,
      "outputs": []
    }
  ]
}